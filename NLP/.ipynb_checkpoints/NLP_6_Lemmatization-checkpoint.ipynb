{
 "cells": [
  {
   "cell_type": "markdown",
   "id": "6d3ec06c",
   "metadata": {},
   "source": [
    "# Stemming"
   ]
  },
  {
   "cell_type": "code",
   "execution_count": 2,
   "id": "1d88ca8f",
   "metadata": {},
   "outputs": [],
   "source": [
    "from nltk.stem import PorterStemmer"
   ]
  },
  {
   "cell_type": "code",
   "execution_count": 3,
   "id": "a1a09342",
   "metadata": {},
   "outputs": [],
   "source": [
    "ps = PorterStemmer()"
   ]
  },
  {
   "cell_type": "code",
   "execution_count": 4,
   "id": "715ae758",
   "metadata": {},
   "outputs": [],
   "source": [
    "connect_tokens = ['connecting', 'connected', 'connectivity', 'connect', 'connects']"
   ]
  },
  {
   "cell_type": "code",
   "execution_count": 5,
   "id": "772e419c",
   "metadata": {},
   "outputs": [
    {
     "name": "stdout",
     "output_type": "stream",
     "text": [
      "connecting :  connect\n",
      "connected :  connect\n",
      "connectivity :  connect\n",
      "connect :  connect\n",
      "connects :  connect\n"
     ]
    }
   ],
   "source": [
    "for t in connect_tokens:\n",
    "    print(t, \": \", ps.stem(t))"
   ]
  },
  {
   "cell_type": "code",
   "execution_count": 6,
   "id": "6d6a85dc",
   "metadata": {},
   "outputs": [],
   "source": [
    "learn_tokens = ['learned', 'learning', 'learn', 'learns', 'learner', 'learners']"
   ]
  },
  {
   "cell_type": "code",
   "execution_count": 7,
   "id": "82f62b7a",
   "metadata": {},
   "outputs": [
    {
     "name": "stdout",
     "output_type": "stream",
     "text": [
      "learned :  learn\n",
      "learning :  learn\n",
      "learn :  learn\n",
      "learns :  learn\n",
      "learner :  learner\n",
      "learners :  learner\n"
     ]
    }
   ],
   "source": [
    "for t in learn_tokens:\n",
    "    print(t, \": \", ps.stem(t))"
   ]
  },
  {
   "cell_type": "code",
   "execution_count": 8,
   "id": "8ebcce06",
   "metadata": {},
   "outputs": [],
   "source": [
    "likes_tokens = ['likes', 'better', 'worse']"
   ]
  },
  {
   "cell_type": "code",
   "execution_count": 9,
   "id": "757c56b2",
   "metadata": {},
   "outputs": [
    {
     "name": "stdout",
     "output_type": "stream",
     "text": [
      "likes :  like\n",
      "better :  better\n",
      "worse :  wors\n"
     ]
    }
   ],
   "source": [
    "for t in likes_tokens:\n",
    "    print(t, \": \", ps.stem(t))"
   ]
  },
  {
   "cell_type": "markdown",
   "id": "86e6f468",
   "metadata": {},
   "source": [
    "# Lemmatization"
   ]
  },
  {
   "cell_type": "code",
   "execution_count": 13,
   "id": "b596bee8",
   "metadata": {},
   "outputs": [
    {
     "name": "stderr",
     "output_type": "stream",
     "text": [
      "[nltk_data] Downloading package wordnet to\n",
      "[nltk_data]     C:\\Users\\sekan\\AppData\\Roaming\\nltk_data...\n",
      "[nltk_data]   Package wordnet is already up-to-date!\n"
     ]
    }
   ],
   "source": [
    "import nltk\n",
    "nltk.download('wordnet')\n",
    "from nltk.stem import WordNetLemmatizer"
   ]
  },
  {
   "cell_type": "code",
   "execution_count": 14,
   "id": "0a1b8e5f",
   "metadata": {},
   "outputs": [],
   "source": [
    "lemmatizer = WordNetLemmatizer()"
   ]
  },
  {
   "cell_type": "code",
   "execution_count": 15,
   "id": "e22c9ba3",
   "metadata": {},
   "outputs": [
    {
     "name": "stdout",
     "output_type": "stream",
     "text": [
      "connecting :  connecting\n",
      "connected :  connected\n",
      "connectivity :  connectivity\n",
      "connect :  connect\n",
      "connects :  connects\n"
     ]
    }
   ],
   "source": [
    "for t in connect_tokens:\n",
    "    print(t, \": \", lemmatizer.lemmatize(t))"
   ]
  },
  {
   "cell_type": "code",
   "execution_count": 16,
   "id": "91756e32",
   "metadata": {},
   "outputs": [
    {
     "name": "stdout",
     "output_type": "stream",
     "text": [
      "learned :  learned\n",
      "learning :  learning\n",
      "learn :  learn\n",
      "learns :  learns\n",
      "learner :  learner\n",
      "learners :  learner\n"
     ]
    }
   ],
   "source": [
    "for t in learn_tokens:\n",
    "    print(t, \": \", lemmatizer.lemmatize(t))"
   ]
  },
  {
   "cell_type": "code",
   "execution_count": 17,
   "id": "77d82ded",
   "metadata": {},
   "outputs": [
    {
     "name": "stdout",
     "output_type": "stream",
     "text": [
      "likes :  like\n",
      "better :  better\n",
      "worse :  worse\n"
     ]
    }
   ],
   "source": [
    "for t in likes_tokens:\n",
    "    print(t, \": \", lemmatizer.lemmatize(t))"
   ]
  },
  {
   "cell_type": "code",
   "execution_count": null,
   "id": "7ab98047",
   "metadata": {},
   "outputs": [],
   "source": []
  }
 ],
 "metadata": {
  "kernelspec": {
   "display_name": "Python 3 (ipykernel)",
   "language": "python",
   "name": "python3"
  },
  "language_info": {
   "codemirror_mode": {
    "name": "ipython",
    "version": 3
   },
   "file_extension": ".py",
   "mimetype": "text/x-python",
   "name": "python",
   "nbconvert_exporter": "python",
   "pygments_lexer": "ipython3",
   "version": "3.11.5"
  }
 },
 "nbformat": 4,
 "nbformat_minor": 5
}
