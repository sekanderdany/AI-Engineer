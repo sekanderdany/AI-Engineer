{
 "cells": [
  {
   "cell_type": "code",
   "execution_count": null,
   "id": "46d95fba",
   "metadata": {},
   "outputs": [],
   "source": [
    "sentence = \"Her cat's name is Luna\""
   ]
  },
  {
   "cell_type": "code",
   "execution_count": 23,
   "id": "43147614",
   "metadata": {},
   "outputs": [],
   "source": [
    "lower_sentence = sentence.lower()"
   ]
  },
  {
   "cell_type": "code",
   "execution_count": 25,
   "id": "e16f7b1d",
   "metadata": {},
   "outputs": [
    {
     "name": "stdout",
     "output_type": "stream",
     "text": [
      "her cat's name is luna\n"
     ]
    }
   ],
   "source": [
    "print(lower_sentence)"
   ]
  },
  {
   "cell_type": "code",
   "execution_count": 27,
   "id": "83013dcd",
   "metadata": {},
   "outputs": [],
   "source": [
    "sentence_list = ['Could you pass me the TV remote?',\n",
    "                'It is IMPOSSIBLE to find the Hotel',\n",
    "                'Want to go to dinner on Tuesday']"
   ]
  },
  {
   "cell_type": "code",
   "execution_count": 29,
   "id": "78f93197",
   "metadata": {},
   "outputs": [
    {
     "name": "stdout",
     "output_type": "stream",
     "text": [
      "['could you pass me the tv remote?', 'it is impossible to find the hotel', 'want to go to dinner on tuesday']\n"
     ]
    }
   ],
   "source": [
    "lower_sentence_list = [x.lower() for x in sentence_list]\n",
    "print(lower_sentence_list)"
   ]
  },
  {
   "cell_type": "code",
   "execution_count": null,
   "id": "fdd1e4c1",
   "metadata": {},
   "outputs": [],
   "source": []
  }
 ],
 "metadata": {
  "kernelspec": {
   "display_name": "Python 3 (ipykernel)",
   "language": "python",
   "name": "python3"
  },
  "language_info": {
   "codemirror_mode": {
    "name": "ipython",
    "version": 3
   },
   "file_extension": ".py",
   "mimetype": "text/x-python",
   "name": "python",
   "nbconvert_exporter": "python",
   "pygments_lexer": "ipython3",
   "version": "3.11.5"
  }
 },
 "nbformat": 4,
 "nbformat_minor": 5
}
