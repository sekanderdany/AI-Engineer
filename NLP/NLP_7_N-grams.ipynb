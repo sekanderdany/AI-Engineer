{
 "cells": [
  {
   "cell_type": "code",
   "execution_count": 1,
   "id": "1c2ccd9a",
   "metadata": {},
   "outputs": [],
   "source": [
    "import nltk\n",
    "import pandas as pd\n",
    "import matplotlib.pyplot as plt"
   ]
  },
  {
   "cell_type": "code",
   "execution_count": 2,
   "id": "57adb864",
   "metadata": {},
   "outputs": [
    {
     "name": "stdout",
     "output_type": "stream",
     "text": [
      "['the', 'rise', 'of', 'artificial', 'intelligence', 'has', 'led', 'to', 'significant', 'advancements', 'in', 'natural', 'language', 'processing', 'computer', 'vision', 'and', 'other', 'fields', 'machine', 'learning', 'algorithms', 'are', 'becoming', 'more', 'sophisticated', 'enabling', 'computers', 'to', 'perform', 'complex', 'tasks', 'that', 'were', 'once', 'thought', 'to', 'be', 'the', 'exclusive', 'domain', 'of', 'humans', 'with', 'the', 'advent', 'of', 'deep', 'learning', 'neural', 'networks', 'have', 'become', 'even', 'more', 'powerful', 'capable', 'of', 'processing', 'vast', 'amounts', 'of', 'data', 'and', 'learning', 'from', 'it', 'in', 'ways', 'that', 'were', 'not', 'possible', 'before', 'as', 'a', 'result', 'ai', 'is', 'increasingly', 'being', 'used', 'in', 'a', 'wide', 'range', 'of', 'industries', 'from', 'healthcare', 'to', 'finance', 'to', 'transportation', 'and', 'its', 'impact', 'is', 'only', 'set', 'to', 'grow', 'in', 'the', 'years', 'to', 'come']\n"
     ]
    }
   ],
   "source": [
    "tokens = ['the', 'rise', 'of', 'artificial', 'intelligence', 'has', 'led', 'to', 'significant', 'advancements', 'in',\n",
    "          'natural', 'language', 'processing', 'computer', 'vision', 'and', 'other', 'fields', 'machine', 'learning',\n",
    "          'algorithms', 'are', 'becoming', 'more', 'sophisticated', 'enabling', 'computers', 'to', 'perform', 'complex',\n",
    "          'tasks', 'that', 'were', 'once', 'thought', 'to', 'be', 'the', 'exclusive', 'domain', 'of', 'humans', 'with',\n",
    "          'the', 'advent', 'of', 'deep', 'learning', 'neural', 'networks', 'have', 'become', 'even', 'more', 'powerful',\n",
    "          'capable', 'of', 'processing', 'vast', 'amounts', 'of', 'data', 'and', 'learning', 'from', 'it', 'in', 'ways',\n",
    "          'that', 'were', 'not', 'possible', 'before', 'as', 'a', 'result', 'ai', 'is', 'increasingly', 'being', 'used',\n",
    "          'in', 'a', 'wide', 'range', 'of', 'industries', 'from', 'healthcare', 'to', 'finance', 'to', 'transportation',\n",
    "          'and', 'its', 'impact', 'is', 'only', 'set', 'to', 'grow', 'in', 'the', 'years', 'to', 'come']\n",
    "print(tokens)"
   ]
  },
  {
   "cell_type": "code",
   "execution_count": 3,
   "id": "b5d91d4e",
   "metadata": {},
   "outputs": [
    {
     "name": "stdout",
     "output_type": "stream",
     "text": [
      "(to,)          7\n",
      "(of,)          6\n",
      "(the,)         4\n",
      "(in,)          4\n",
      "(learning,)    3\n",
      "(and,)         3\n",
      "(from,)        2\n",
      "(more,)        2\n",
      "(is,)          2\n",
      "(that,)        2\n",
      "Name: count, dtype: int64\n"
     ]
    }
   ],
   "source": [
    "unigrams = (pd.Series(nltk.ngrams(tokens, 1)).value_counts())\n",
    "print(unigrams[:10])"
   ]
  },
  {
   "cell_type": "code",
   "execution_count": 4,
   "id": "7588f2e2",
   "metadata": {},
   "outputs": [
    {
     "data": {
      "text/plain": [
       "Text(0.5, 1.0, '10 Most frequently Occurring Unigrams')"
      ]
     },
     "execution_count": 4,
     "metadata": {},
     "output_type": "execute_result"
    },
    {
     "data": {
      "image/png": "[encoded data removed]",
      "text/plain": [
       "<Figure size 1200x800 with 1 Axes>"
      ]
     },
     "metadata": {},
     "output_type": "display_data"
    }
   ],
   "source": [
    "unigrams[:10].sort_values().plot.barh(color=\"lightsalmon\", width=.9, figsize=(12, 8))\n",
    "plt.title(\"10 Most frequently Occurring Unigrams\")"
   ]
  },
  {
   "cell_type": "code",
   "execution_count": 6,
   "id": "e2eaa453",
   "metadata": {},
   "outputs": [
    {
     "name": "stdout",
     "output_type": "stream",
     "text": [
      "(that, were)             2\n",
      "(the, rise)              1\n",
      "(increasingly, being)    1\n",
      "(ai, is)                 1\n",
      "(result, ai)             1\n",
      "(a, result)              1\n",
      "(as, a)                  1\n",
      "(before, as)             1\n",
      "(possible, before)       1\n",
      "(not, possible)          1\n",
      "Name: count, dtype: int64\n"
     ]
    }
   ],
   "source": [
    "bigrams = (pd.Series(nltk.ngrams(tokens, 2)).value_counts())\n",
    "print(bigrams[:10])"
   ]
  },
  {
   "cell_type": "code",
   "execution_count": 7,
   "id": "3fe2465d",
   "metadata": {},
   "outputs": [
    {
     "name": "stdout",
     "output_type": "stream",
     "text": [
      "(the, rise, of)            1\n",
      "(even, more, powerful)     1\n",
      "(ai, is, increasingly)     1\n",
      "(result, ai, is)           1\n",
      "(a, result, ai)            1\n",
      "(as, a, result)            1\n",
      "(before, as, a)            1\n",
      "(possible, before, as)     1\n",
      "(not, possible, before)    1\n",
      "(were, not, possible)      1\n",
      "Name: count, dtype: int64\n"
     ]
    }
   ],
   "source": [
    "trigrams = (pd.Series(nltk.ngrams(tokens, 3)).value_counts())\n",
    "print(trigrams[:10])"
   ]
  },
  {
   "cell_type": "code",
   "execution_count": 8,
   "id": "07bc792c",
   "metadata": {},
   "outputs": [
    {
     "name": "stdout",
     "output_type": "stream",
     "text": [
      "C:\\Users\\sekan\\_Exercise\n"
     ]
    }
   ],
   "source": [
    "import os\n",
    "print(os.getcwd())"
   ]
  },
  {
   "cell_type": "code",
   "execution_count": null,
   "id": "60ee0382",
   "metadata": {},
   "outputs": [],
   "source": []
  }
 ],
 "metadata": {
  "kernelspec": {
   "display_name": "Python 3 (ipykernel)",
   "language": "python",
   "name": "python3"
  },
  "language_info": {
   "codemirror_mode": {
    "name": "ipython",
    "version": 3
   },
   "file_extension": ".py",
   "mimetype": "text/x-python",
   "name": "python",
   "nbconvert_exporter": "python",
   "pygments_lexer": "ipython3",
   "version": "3.11.5"
  }
 },
 "nbformat": 4,
 "nbformat_minor": 5
}
